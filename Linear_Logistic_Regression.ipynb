{
 "cells": [
  {
   "cell_type": "code",
   "execution_count": 1,
   "metadata": {},
   "outputs": [],
   "source": [
    "import matplotlib.pyplot as plt\n",
    "import numpy as np"
   ]
  },
  {
   "cell_type": "markdown",
   "metadata": {},
   "source": [
    "### loadDataSet\n",
    "* 输入：文件名\n",
    "* 输出：数据的特征矩阵xArr,真实输出矩阵yArr\n",
    "* 收集准备数据"
   ]
  },
  {
   "cell_type": "code",
   "execution_count": 2,
   "metadata": {},
   "outputs": [],
   "source": [
    "def loadDataSet(fileName):\n",
    "\n",
    "    numFeat = len(open(fileName).readline().split('\\t')) - 1            # 特征的数目\n",
    "    xArr = []                                                          \n",
    "    yArr = []\n",
    "    fr = open(fileName)\n",
    "    for line in fr.readlines():\n",
    "        lineArr = []\n",
    "        curLine = line.strip().split('\\t')                      # 读取一行数据，并以tab分割\n",
    "        for i in range(numFeat):                            # range(numFeat)结果为0，1\n",
    "            lineArr.append(float(curLine[i]))\n",
    "        xArr.append(lineArr)                                # 取前两列，结果为嵌套列表\n",
    "        yArr.append(float(curLine[-1]))                     # 其最后一列\n",
    "                                                            # print(xArr)\n",
    "    return xArr, yArr"
   ]
  },
  {
   "cell_type": "code",
   "execution_count": 3,
   "metadata": {},
   "outputs": [],
   "source": [
    "def standRegres(xArr, yArr):\n",
    "    \"\"\"\n",
    "    函数说明:计算回归系数w\n",
    "    Parameters:\n",
    "        xArr - x数据集\n",
    "        yArr - y数据集\n",
    "    Returns:\n",
    "        ws - 回归系数\n",
    "\n",
    "    \"\"\"\n",
    "    xMat = np.mat(xArr)                                         # 200*2\n",
    "    yMat = np.mat(yArr).T                               # 200 *1\n",
    "\n",
    "    xTx = xMat.T * xMat                                # 根据文中推导的公示计算回归系数\n",
    "    if np.linalg.det(xTx) == 0.0:\n",
    "        print(\"矩阵为奇异矩阵,不能求逆\")\n",
    "        return\n",
    "    ws = xTx.I * (xMat.T * yMat)\n",
    "    return ws"
   ]
  },
  {
   "cell_type": "code",
   "execution_count": 4,
   "metadata": {},
   "outputs": [],
   "source": [
    "def plotRegression():\n",
    "    \"\"\"\n",
    "    函数说明:绘制回归曲线和数据点\n",
    "    Parameters:\n",
    "        无\n",
    "    Returns:\n",
    "        无\n",
    "    \"\"\"\n",
    "    xArr, yArr = loadDataSet('ex0.txt')  # 加载数据集\n",
    "    ws = standRegres(xArr, yArr)  # 计算回归系数\n",
    "    print(ws)\n",
    "    xMat = np.mat(xArr)  # 创建xMat矩阵\n",
    "    yMat = np.mat(yArr)  # 创建yMat矩阵\n",
    "    xCopy = xMat.copy()  # 深拷贝xMat矩阵\n",
    "    xCopy.sort(0)  # 排序\n",
    "    yHat = xCopy * ws  # 计算对应的y值\n",
    "    fig = plt.figure()\n",
    "    ax = fig.add_subplot(111)  # 添加subplot\n",
    "    ax.plot(xCopy[:, 1], yHat, c='red')  # 绘制回归曲线\n",
    "    ax.scatter(xMat[:, 1].flatten().A[0], yMat.flatten().A[0], s=20, c='blue', alpha=.5)  # 绘制样本点\n",
    "    plt.title('DataSet')  # 绘制title\n",
    "    plt.xlabel('X')\n",
    "    plt.show()"
   ]
  },
  {
   "cell_type": "code",
   "execution_count": 5,
   "metadata": {},
   "outputs": [
    {
     "name": "stdout",
     "output_type": "stream",
     "text": [
      "[[3.00774324]\n",
      " [1.69532264]]\n"
     ]
    },
    {
     "data": {
      "image/png": "[encoded data removed]",
      "text/plain": [
       "<Figure size 432x288 with 1 Axes>"
      ]
     },
     "metadata": {
      "needs_background": "light"
     },
     "output_type": "display_data"
    }
   ],
   "source": [
    "plotRegression()"
   ]
  },
  {
   "cell_type": "code",
   "execution_count": null,
   "metadata": {},
   "outputs": [],
   "source": []
  }
 ],
 "metadata": {
  "kernelspec": {
   "display_name": "Python 3",
   "language": "python",
   "name": "python3"
  },
  "language_info": {
   "codemirror_mode": {
    "name": "ipython",
    "version": 3
   },
   "file_extension": ".py",
   "mimetype": "text/x-python",
   "name": "python",
   "nbconvert_exporter": "python",
   "pygments_lexer": "ipython3",
   "version": "3.6.8"
  }
 },
 "nbformat": 4,
 "nbformat_minor": 4
}
