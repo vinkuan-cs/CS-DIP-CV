{
 "cells": [
  {
   "cell_type": "code",
   "execution_count": 131,
   "metadata": {},
   "outputs": [],
   "source": [
    "import matplotlib as mpl\n",
    "import matplotlib.pyplot as plt\n",
    "import numpy as np"
   ]
  },
  {
   "cell_type": "markdown",
   "metadata": {},
   "source": [
    "# 线性回归\n",
    "### loadDataSet\n",
    "* 输入：文件名\n",
    "* 输出：数据的特征矩阵xArr,真实输出矩阵yArr\n",
    "* 收集准备数据"
   ]
  },
  {
   "cell_type": "code",
   "execution_count": 144,
   "metadata": {},
   "outputs": [],
   "source": [
    "def loadDataSet(fileName):\n",
    "\n",
    "    numFeat = len(open(fileName).readline().split('\\t')) - 1           # 特征的数目\n",
    "    xArr = []                                                          \n",
    "    yArr = []\n",
    "    fr = open(fileName)\n",
    "    for line in fr.readlines():\n",
    "        lineArr = []\n",
    "        curLine = line.strip().split()                                # 读取一行数据，并以空白分割\n",
    "        for i in range(numFeat):                          \n",
    "            lineArr.append(float(curLine[i]))\n",
    "        xArr.append(lineArr)                                           # 结果为嵌套列表\n",
    "        yArr.append(float(curLine[-1]))                               # 取最后一列\n",
    "                                                            \n",
    "    return xArr, yArr"
   ]
  },
  {
   "cell_type": "markdown",
   "metadata": {},
   "source": [
    "### standRegres\n",
    "* 输入：训练的数据，包括样本特征数据和标签\n",
    "* 输出：参数\n",
    "* 计算线性回归的参数"
   ]
  },
  {
   "cell_type": "code",
   "execution_count": 145,
   "metadata": {},
   "outputs": [],
   "source": [
    "def standRegres(xArr, yArr):\n",
    "\n",
    "    xMat = np.mat(xArr)                                         # 200*2矩阵\n",
    "    yMat = np.mat(yArr).T                                      # 200 *1\n",
    "\n",
    "    xTx = xMat.T * xMat                                       # 根据推导的矩阵式计算回归系数\n",
    "    if np.linalg.det(xTx) == 0.0:\n",
    "        print(\"矩阵为奇异矩阵,不能求逆\")\n",
    "        return\n",
    "    ws = xTx.I * (xMat.T * yMat)\n",
    "    return ws"
   ]
  },
  {
   "cell_type": "markdown",
   "metadata": {},
   "source": [
    "### plotRegression\n",
    "* 输入：无\n",
    "* 输出：无\n",
    "* 绘制回归曲线和数据点"
   ]
  },
  {
   "cell_type": "code",
   "execution_count": 146,
   "metadata": {},
   "outputs": [],
   "source": [
    "def plotRegression():\n",
    "    xArr, yArr = loadDataSet('ex0.txt')                      # 加载数据集\n",
    "    ws = standRegres(xArr, yArr)                            # 计算回归系数\n",
    "    print(ws)\n",
    "    xMat = np.mat(xArr)                                    # 创建xMat矩阵\n",
    "    yMat = np.mat(yArr)                                    # 创建yMat矩阵\n",
    "    xCopy = xMat.copy()                                   # 深拷贝xMat矩阵\n",
    "    yHat = xCopy * ws                                    # 计算对应的y_hat值\n",
    "    fig = plt.figure()\n",
    "    ax = fig.add_subplot(111)                            # 添加subplot\n",
    "    ax.plot(xCopy[:, 1], yHat, c='red')                  # 绘制回归曲线\n",
    "    ax.scatter(xMat[:, 1].flatten().A[0], yMat.flatten().A[0], s=20, c='blue', alpha=.5)  # 绘制样本点\n",
    "    plt.title('DataSet')                                  # 绘制title\n",
    "    plt.xlabel('X')\n",
    "    plt.show()"
   ]
  },
  {
   "cell_type": "code",
   "execution_count": 147,
   "metadata": {},
   "outputs": [
    {
     "name": "stdout",
     "output_type": "stream",
     "text": [
      "[[3.00774324]\n",
      " [1.69532264]]\n"
     ]
    },
    {
     "data": {
      "image/png": "[encoded data removed]",
      "text/plain": [
       "<Figure size 432x288 with 1 Axes>"
      ]
     },
     "metadata": {
      "needs_background": "light"
     },
     "output_type": "display_data"
    }
   ],
   "source": [
    "plotRegression()"
   ]
  },
  {
   "cell_type": "markdown",
   "metadata": {},
   "source": [
    "# logistic回归\n",
    "### loadDataSet\n",
    "* 输入：文件名\n",
    "* 输出：数据的特征矩阵dataMat,真实输出矩阵labelMat\n",
    "* 收集准备数据"
   ]
  },
  {
   "cell_type": "code",
   "execution_count": 148,
   "metadata": {},
   "outputs": [],
   "source": [
    "def loadDataSet(filename):   #读取数据（这里只有两个特征）\n",
    "    dataMat = []\n",
    "    labelMat = []\n",
    "    fr = open(filename)\n",
    "    for line in fr.readlines():\n",
    "        lineArr = line.strip().split()\n",
    "        dataMat.append([1.0, float(lineArr[0]), float(lineArr[1])])   #前面的1，表示方程的常量。比如两个特征X1,X2，共需要三个参数，W1+W2*X1+W3*X2\n",
    "        labelMat.append(int(lineArr[2]))\n",
    "    return dataMat,labelMat"
   ]
  },
  {
   "cell_type": "markdown",
   "metadata": {},
   "source": [
    "### sigmoid\n",
    "* 输入：向量\n",
    "* 输出：向量\n",
    "* 非线性转换"
   ]
  },
  {
   "cell_type": "code",
   "execution_count": 149,
   "metadata": {},
   "outputs": [],
   "source": [
    "def sigmoid(inX):  #sigmoid函数\n",
    "    return 1.0/(1+np.exp(-inX))"
   ]
  },
  {
   "cell_type": "markdown",
   "metadata": {},
   "source": [
    "### gradAscent\n",
    "* 输入训练数据\n",
    "* 输出参数\n",
    "* 采用梯度下降法求最优参数"
   ]
  },
  {
   "cell_type": "code",
   "execution_count": 150,
   "metadata": {},
   "outputs": [],
   "source": [
    "def gradAscent(dataMat, labelMat): #求最优参数\n",
    "    dataMatrix= np.mat(dataMat) #将读取的数据转换为矩阵\n",
    "    classLabels= np.mat(labelMat).transpose() #将读取的数据转换为矩阵\n",
    "    m,n = dataMatrix.shape\n",
    "    alpha = 0.001  #设置学习率\n",
    "    maxCycles = 500 #设置迭代的次数，一般看实际数据进行设定，有些可能200次就够了\n",
    "    weights = np.ones((n,1)) #设置初始的参数，并都赋默认值为1。注意这里权重以矩阵形式表示三个参数。\n",
    "    for k in range(maxCycles):\n",
    "        h = sigmoid(dataMatrix*weights)\n",
    "        error = (classLabels - h)     #求导后差值\n",
    "        weights = weights + alpha * dataMatrix.transpose()* error #迭代更新权重\n",
    "    return weights"
   ]
  },
  {
   "cell_type": "markdown",
   "metadata": {},
   "source": [
    "### plotBestFit\n",
    "* 输入：无\n",
    "* 输出： 无\n",
    "* 绘制逻辑回归的分类图"
   ]
  },
  {
   "cell_type": "code",
   "execution_count": 151,
   "metadata": {},
   "outputs": [],
   "source": [
    "def plotBestFit():  #画出最终分类的图\n",
    "    dataMat,labelMat=loadDataSet('data.txt')\n",
    "    weights = gradAscent(dataMat, labelMat).getA()\n",
    "    print(weights)\n",
    "    dataArr = np.mat(dataMat)\n",
    "    n = dataArr.shape[0]\n",
    "    xcord1 = []; ycord1 = []\n",
    "    xcord2 = []; ycord2 = []\n",
    "    for i in range(n):\n",
    "        if int(labelMat[i])== 1:\n",
    "            xcord1.append(dataArr[i,1])\n",
    "            ycord1.append(dataArr[i,2])\n",
    "        else:\n",
    "            xcord2.append(dataArr[i,1])\n",
    "            ycord2.append(dataArr[i,2])\n",
    "    fig = plt.figure()\n",
    "    ax = fig.add_subplot(111)\n",
    "    ax.scatter(xcord1, ycord1, s=30, c='red', marker='s')\n",
    "    ax.scatter(xcord2, ycord2, s=30, c='green')\n",
    "    x = np.arange(-3.0, 3.0, 0.1)\n",
    "    y = (-weights[0]-weights[1]*x)/weights[2]\n",
    "    ax.plot(x, y)\n",
    "    plt.xlabel('X1')\n",
    "    plt.ylabel('X2')\n",
    "    plt.show()"
   ]
  },
  {
   "cell_type": "code",
   "execution_count": 152,
   "metadata": {},
   "outputs": [
    {
     "name": "stdout",
     "output_type": "stream",
     "text": [
      "[[ 4.12414349]\n",
      " [ 0.48007329]\n",
      " [-0.6168482 ]]\n"
     ]
    },
    {
     "data": {
      "image/png": "[encoded data removed]",
      "text/plain": [
       "<Figure size 432x288 with 1 Axes>"
      ]
     },
     "metadata": {
      "needs_background": "light"
     },
     "output_type": "display_data"
    }
   ],
   "source": [
    "plotBestFit()"
   ]
  },
  {
   "cell_type": "code",
   "execution_count": null,
   "metadata": {},
   "outputs": [],
   "source": []
  }
 ],
 "metadata": {
  "kernelspec": {
   "display_name": "Python 3",
   "language": "python",
   "name": "python3"
  },
  "language_info": {
   "codemirror_mode": {
    "name": "ipython",
    "version": 3
   },
   "file_extension": ".py",
   "mimetype": "text/x-python",
   "name": "python",
   "nbconvert_exporter": "python",
   "pygments_lexer": "ipython3",
   "version": "3.6.8"
  }
 },
 "nbformat": 4,
 "nbformat_minor": 4
}
